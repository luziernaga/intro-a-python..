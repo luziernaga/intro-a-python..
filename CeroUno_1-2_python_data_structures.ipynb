{
 "cells": [
  {
   "cell_type": "markdown",
   "metadata": {},
   "source": [
    "# Introducción a python, Estructuras de datos\n",
    "\n",
    "\n",
    "Una estructura de datos es la forma en la que un lenguaje de programación organiza, administra y almacena los datos con los que trabaja, y que permite acceso rápido a los datos y modificación de los mismos. \n",
    "\n",
    "## Listas\n",
    "\n",
    "Las listas son colecciones de objetos demarcadas por squared brackets `[]` y cuyos elementos están delimitados por comas. Por ejemplo:"
   ]
  },
  {
   "cell_type": "code",
   "execution_count": 38,
   "metadata": {},
   "outputs": [],
   "source": [
    "a = [1, 2, 3, 4]"
   ]
  },
  {
   "cell_type": "markdown",
   "metadata": {},
   "source": [
    "Las listas pueden contener, y frecuentemente contienen, varios tipos de datos en una sola lista:"
   ]
  },
  {
   "cell_type": "code",
   "execution_count": 39,
   "metadata": {},
   "outputs": [],
   "source": [
    "a = [1, \"Hola\", True]"
   ]
  },
  {
   "cell_type": "markdown",
   "metadata": {},
   "source": [
    "Para accesar los elementos de una lista, es necesario poner el índice del elemento en squared brackets. En python, como en la mayoría de los lenguajes de programación, los índices comienzan en cero. Por ejemplo, para imprimir el primer elemento de la lista necesitamos llamar el índice 0, y el tercer elemento de la lista, el índice 2:"
   ]
  },
  {
   "cell_type": "code",
   "execution_count": 40,
   "metadata": {},
   "outputs": [
    {
     "name": "stdout",
     "output_type": "stream",
     "text": [
      "1\n",
      "True\n"
     ]
    }
   ],
   "source": [
    "a = [1, \"Hola\", True]\n",
    "print(a[0])\n",
    "print(a[2])"
   ]
  },
  {
   "cell_type": "markdown",
   "metadata": {},
   "source": [
    "En las listas usualmente se almacenan registros, por ejemplo:\n",
    "\n",
    "`usuario = ['Margarita Pérez', 28, 'margarita@gmail.com', 'Mujer', True]`\n",
    "\n",
    "\n",
    "Las listas también pueden contener otras listas, y en data science frecuentemente es la forma en la que trabajamos los conjuntos de datos. Imaginemos, por ejemplo, que la siguiente lista es un conjunto de datos con las columnas nombre, edad, correo, sexo y si son fans o no de Luis Miguel:"
   ]
  },
  {
   "cell_type": "code",
   "execution_count": 41,
   "metadata": {},
   "outputs": [],
   "source": [
    "encuesta = [['Margarita Pérez', 28, 'margarita@gmail.com', 'Mujer', True], \n",
    "            ['Milton Pérez', 20, 'milton@gmail.com', 'Hombre', True],\n",
    "            ['Andrés García', 58, 'Andres@gmail.com', 'Hombre', False],\n",
    "            ['Gloria Trevi', 38, 'gloria@gmail.com', 'Mujer', True]]"
   ]
  },
  {
   "cell_type": "markdown",
   "metadata": {},
   "source": [
    "Ahora para accesar el nombre del cuarto registro lo que haremos es lo siguiente:"
   ]
  },
  {
   "cell_type": "code",
   "execution_count": 42,
   "metadata": {},
   "outputs": [
    {
     "name": "stdout",
     "output_type": "stream",
     "text": [
      "Gloria Trevi\n"
     ]
    }
   ],
   "source": [
    "print(encuesta[3][0])"
   ]
  },
  {
   "cell_type": "markdown",
   "metadata": {},
   "source": [
    "Pero ¿qué tal que queremos accesar el último dato de la lista, o el penúltimo? ¿es necesario conocer la cantidad de personas encuestadas? no. Para esto python nos da el índice `[-1]` para accesar el último registro. ¿Te imaginas qué necesitamos para accesar el penúltimo y el antepenúltimo registro?"
   ]
  },
  {
   "cell_type": "code",
   "execution_count": 43,
   "metadata": {},
   "outputs": [
    {
     "name": "stdout",
     "output_type": "stream",
     "text": [
      "['Gloria Trevi', 38, 'gloria@gmail.com', 'Mujer', True]\n"
     ]
    }
   ],
   "source": [
    "print(encuesta[-1])"
   ]
  },
  {
   "cell_type": "markdown",
   "metadata": {},
   "source": [
    "### Métodos de listas\n",
    "\n",
    "\n",
    "#### Actualizando listas\n",
    "\n",
    "Se actualizan de la misma forma en la que actualizamos una variable, por medio del símbolo de igual que representa asignación. Supongamos que queremos actualizar la edad de Gloria Trevi:\n"
   ]
  },
  {
   "cell_type": "code",
   "execution_count": 44,
   "metadata": {},
   "outputs": [
    {
     "name": "stdout",
     "output_type": "stream",
     "text": [
      "['Gloria Trevi', 39, 'gloria@gmail.com', 'Mujer', True]\n"
     ]
    }
   ],
   "source": [
    "encuesta[-1][1] = 39\n",
    "print(encuesta[-1])"
   ]
  },
  {
   "cell_type": "markdown",
   "metadata": {},
   "source": [
    "#### Agregando registros con append()\n",
    "\n",
    "Supongamos que quiero agregar un nuevo registro. Te presento el método append() con él puedes agregar otro elemento al final de la lista:"
   ]
  },
  {
   "cell_type": "code",
   "execution_count": 45,
   "metadata": {},
   "outputs": [
    {
     "name": "stdout",
     "output_type": "stream",
     "text": [
      "['Ali Petisa', 30, 'ali@gmail.com', True]\n"
     ]
    }
   ],
   "source": [
    "encuesta.append(['Ali Petisa', 30, 'ali@gmail.com', True])\n",
    "print(encuesta[-1])"
   ]
  },
  {
   "cell_type": "markdown",
   "metadata": {},
   "source": [
    "#### Borrando registros con del\n",
    "\n",
    "Supongamos que todo fue un error y que Ali en realidad se quería inscribir a otro club de fans. Borremos su registro:\n"
   ]
  },
  {
   "cell_type": "code",
   "execution_count": 46,
   "metadata": {},
   "outputs": [
    {
     "name": "stdout",
     "output_type": "stream",
     "text": [
      "[['Margarita Pérez', 28, 'margarita@gmail.com', 'Mujer', True], ['Milton Pérez', 20, 'milton@gmail.com', 'Hombre', True], ['Andrés García', 58, 'Andres@gmail.com', 'Hombre', False], ['Gloria Trevi', 39, 'gloria@gmail.com', 'Mujer', True], ['Ali Petisa', 30, 'ali@gmail.com', True]]\n",
      "borrando el último registro...\n",
      "[['Margarita Pérez', 28, 'margarita@gmail.com', 'Mujer', True], ['Milton Pérez', 20, 'milton@gmail.com', 'Hombre', True], ['Andrés García', 58, 'Andres@gmail.com', 'Hombre', False], ['Gloria Trevi', 39, 'gloria@gmail.com', 'Mujer', True]]\n"
     ]
    }
   ],
   "source": [
    "print(encuesta)\n",
    "print('borrando el último registro...')\n",
    "del encuesta[-1]\n",
    "print(encuesta)"
   ]
  },
  {
   "cell_type": "markdown",
   "metadata": {},
   "source": [
    "también es posible borrar el último registro con el método pop()"
   ]
  },
  {
   "cell_type": "code",
   "execution_count": 47,
   "metadata": {},
   "outputs": [
    {
     "data": {
      "text/plain": [
       "['Gloria Trevi', 39, 'gloria@gmail.com', 'Mujer', True]"
      ]
     },
     "execution_count": 47,
     "metadata": {},
     "output_type": "execute_result"
    }
   ],
   "source": [
    "encuesta.pop()"
   ]
  },
  {
   "cell_type": "code",
   "execution_count": 48,
   "metadata": {},
   "outputs": [
    {
     "name": "stdout",
     "output_type": "stream",
     "text": [
      "[['Margarita Pérez', 28, 'margarita@gmail.com', 'Mujer', True], ['Milton Pérez', 20, 'milton@gmail.com', 'Hombre', True], ['Andrés García', 58, 'Andres@gmail.com', 'Hombre', False]]\n"
     ]
    }
   ],
   "source": [
    "print(encuesta)"
   ]
  },
  {
   "cell_type": "markdown",
   "metadata": {},
   "source": [
    "#### Función len()\n",
    "\n",
    "Puedes encontrar el tamaño de una lista con esta función: "
   ]
  },
  {
   "cell_type": "code",
   "execution_count": 49,
   "metadata": {},
   "outputs": [
    {
     "data": {
      "text/plain": [
       "3"
      ]
     },
     "execution_count": 49,
     "metadata": {},
     "output_type": "execute_result"
    }
   ],
   "source": [
    "len(encuesta)"
   ]
  },
  {
   "cell_type": "markdown",
   "metadata": {},
   "source": [
    "### Buscando ayuda\n",
    "\n",
    "\n",
    "Utiliza la función help() para encontrar más información sobre listas y sus métodos y ten a la mano la [documentación de python](https://docs.python.org/2/tutorial/datastructures.html)"
   ]
  },
  {
   "cell_type": "code",
   "execution_count": null,
   "metadata": {},
   "outputs": [],
   "source": []
  }
 ],
 "metadata": {
  "kernelspec": {
   "display_name": "Python 3",
   "language": "python",
   "name": "python3"
  },
  "language_info": {
   "codemirror_mode": {
    "name": "ipython",
    "version": 3
   },
   "file_extension": ".py",
   "mimetype": "text/x-python",
   "name": "python",
   "nbconvert_exporter": "python",
   "pygments_lexer": "ipython3",
   "version": "3.7.0"
  }
 },
 "nbformat": 4,
 "nbformat_minor": 2
}
