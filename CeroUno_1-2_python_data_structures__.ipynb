{
 "cells": [
  {
   "cell_type": "markdown",
   "metadata": {},
   "source": [
    "# Introducción a python, Estructuras de datos\n",
    "\n",
    "\n",
    "Una estructura de datos es la forma en la que un lenguaje de programación organiza, administra y almacena los datos con los que trabaja, y que permite acceso rápido a los datos y modificación de los mismos. \n",
    "\n",
    "## Listas\n",
    "\n",
    "Las listas son colecciones de objetos demarcadas por squared brackets `[]` y cuyos elementos están delimitados por comas. Por ejemplo:"
   ]
  },
  {
   "cell_type": "code",
   "execution_count": 54,
   "metadata": {},
   "outputs": [],
   "source": [
    "a = [1, 2, 3, 4]"
   ]
  },
  {
   "cell_type": "markdown",
   "metadata": {},
   "source": [
    "Las listas pueden contener, y frecuentemente contienen, varios tipos de datos en una sola lista:"
   ]
  },
  {
   "cell_type": "code",
   "execution_count": 55,
   "metadata": {},
   "outputs": [],
   "source": [
    "a = [1, \"Hola\", True]"
   ]
  },
  {
   "cell_type": "markdown",
   "metadata": {},
   "source": [
    "Para accesar los elementos de una lista, es necesario poner el índice del elemento en squared brackets. En python, como en la mayoría de los lenguajes de programación, los índices comienzan en cero. Por ejemplo, para imprimir el primer elemento de la lista necesitamos llamar el índice 0, y el tercer elemento de la lista, el índice 2:"
   ]
  },
  {
   "cell_type": "code",
   "execution_count": 56,
   "metadata": {},
   "outputs": [
    {
     "name": "stdout",
     "output_type": "stream",
     "text": [
      "1\n",
      "True\n"
     ]
    }
   ],
   "source": [
    "a = [1, \"Hola\", True]\n",
    "print(a[0])\n",
    "print(a[2])"
   ]
  },
  {
   "cell_type": "markdown",
   "metadata": {},
   "source": [
    "En las listas usualmente se almacenan registros, por ejemplo:\n",
    "\n",
    "`usuario = ['Margarita Pérez', 28, 'margarita@gmail.com', 'Mujer', True]`\n",
    "\n",
    "\n",
    "Las listas también pueden contener otras listas, y en data science frecuentemente es la forma en la que trabajamos los conjuntos de datos. Imaginemos, por ejemplo, que la siguiente lista es un conjunto de datos con las columnas nombre, edad, correo, sexo y si son fans o no de Luis Miguel:"
   ]
  },
  {
   "cell_type": "code",
   "execution_count": 57,
   "metadata": {},
   "outputs": [],
   "source": [
    "encuesta = [['Margarita Pérez', 28, 'margarita@gmail.com', 'Mujer', True], \n",
    "            ['Milton Pérez', 20, 'milton@gmail.com', 'Hombre', True],\n",
    "            ['Andrés García', 58, 'Andres@gmail.com', 'Hombre', False],\n",
    "            ['Gloria Trevi', 38, 'gloria@gmail.com', 'Mujer', True]]"
   ]
  },
  {
   "cell_type": "markdown",
   "metadata": {},
   "source": [
    "Ahora para accesar el nombre del cuarto registro lo que haremos es lo siguiente:"
   ]
  },
  {
   "cell_type": "code",
   "execution_count": 58,
   "metadata": {},
   "outputs": [
    {
     "name": "stdout",
     "output_type": "stream",
     "text": [
      "Gloria Trevi\n"
     ]
    }
   ],
   "source": [
    "print(encuesta[3][0])"
   ]
  },
  {
   "cell_type": "markdown",
   "metadata": {},
   "source": [
    "Pero ¿qué tal que queremos accesar el último dato de la lista, o el penúltimo? ¿es necesario conocer la cantidad de personas encuestadas? no. Para esto python nos da el índice `[-1]` para accesar el último registro. ¿Te imaginas qué necesitamos para accesar el penúltimo y el antepenúltimo registro?"
   ]
  },
  {
   "cell_type": "code",
   "execution_count": 59,
   "metadata": {},
   "outputs": [
    {
     "name": "stdout",
     "output_type": "stream",
     "text": [
      "Gloria Trevi\n"
     ]
    }
   ],
   "source": [
    "print(encuesta[-1][0])"
   ]
  },
  {
   "cell_type": "markdown",
   "metadata": {},
   "source": [
    "Las listas en otros lenguajes de programación suelen llamarse `arrays` o arreglos.\n",
    "\n",
    "### Métodos de listas\n",
    "\n",
    "\n",
    "#### Actualizando listas\n",
    "\n",
    "Se actualizan de la misma forma en la que actualizamos una variable, por medio del símbolo de igual que representa asignación. Supongamos que queremos actualizar la edad de Gloria Trevi:\n"
   ]
  },
  {
   "cell_type": "code",
   "execution_count": 60,
   "metadata": {},
   "outputs": [
    {
     "name": "stdout",
     "output_type": "stream",
     "text": [
      "['Gloria Trevi', 39, 'gloria@gmail.com', 'Mujer', True]\n"
     ]
    }
   ],
   "source": [
    "encuesta[-1][1] = 39\n",
    "print(encuesta[-1])"
   ]
  },
  {
   "cell_type": "markdown",
   "metadata": {},
   "source": [
    "#### Agregando registros con append()\n",
    "\n",
    "Supongamos que quiero agregar un nuevo registro. Te presento el método append() con él puedes agregar otro elemento al final de la lista:"
   ]
  },
  {
   "cell_type": "code",
   "execution_count": 62,
   "metadata": {},
   "outputs": [
    {
     "name": "stdout",
     "output_type": "stream",
     "text": [
      "[['Margarita Pérez', 28, 'margarita@gmail.com', 'Mujer', True], ['Milton Pérez', 20, 'milton@gmail.com', 'Hombre', True], ['Andrés García', 58, 'Andres@gmail.com', 'Hombre', False], ['Gloria Trevi', 39, 'gloria@gmail.com', 'Mujer', True], ['Ali Petisa', 30, 'ale@gmail.com', True], ['Ali Petisa', 30, 'ale@gmail.com', True]]\n"
     ]
    }
   ],
   "source": [
    "encuesta.append(['Ali Petisa', 30, \"ale@gmail.com\", True])\n",
    "print(encuesta)"
   ]
  },
  {
   "cell_type": "markdown",
   "metadata": {},
   "source": [
    "#### Borrando registros con del\n",
    "\n",
    "Supongamos que todo fue un error y que Ali en realidad se quería inscribir a otro club de fans. Borremos su registro:\n"
   ]
  },
  {
   "cell_type": "code",
   "execution_count": 46,
   "metadata": {},
   "outputs": [
    {
     "name": "stdout",
     "output_type": "stream",
     "text": [
      "[['Margarita Pérez', 28, 'margarita@gmail.com', 'Mujer', True], ['Milton Pérez', 20, 'milton@gmail.com', 'Hombre', True], ['Andrés García', 58, 'Andres@gmail.com', 'Hombre', False], ['Gloria Trevi', 39, 'gloria@gmail.com', 'Mujer', True], ['Ali Petisa', 30, 'ali@gmail.com', True]]\n",
      "borrando el último registro...\n",
      "[['Margarita Pérez', 28, 'margarita@gmail.com', 'Mujer', True], ['Milton Pérez', 20, 'milton@gmail.com', 'Hombre', True], ['Andrés García', 58, 'Andres@gmail.com', 'Hombre', False], ['Gloria Trevi', 39, 'gloria@gmail.com', 'Mujer', True]]\n"
     ]
    }
   ],
   "source": [
    "print(encuesta)\n",
    "print('borrando el último registro...')\n",
    "del encuesta[-1]\n",
    "print(encuesta)"
   ]
  },
  {
   "cell_type": "markdown",
   "metadata": {},
   "source": [
    "también es posible borrar el último registro con el método pop()"
   ]
  },
  {
   "cell_type": "code",
   "execution_count": 47,
   "metadata": {},
   "outputs": [
    {
     "data": {
      "text/plain": [
       "['Gloria Trevi', 39, 'gloria@gmail.com', 'Mujer', True]"
      ]
     },
     "execution_count": 47,
     "metadata": {},
     "output_type": "execute_result"
    }
   ],
   "source": [
    "encuesta.pop()"
   ]
  },
  {
   "cell_type": "code",
   "execution_count": 48,
   "metadata": {},
   "outputs": [
    {
     "name": "stdout",
     "output_type": "stream",
     "text": [
      "[['Margarita Pérez', 28, 'margarita@gmail.com', 'Mujer', True], ['Milton Pérez', 20, 'milton@gmail.com', 'Hombre', True], ['Andrés García', 58, 'Andres@gmail.com', 'Hombre', False]]\n"
     ]
    }
   ],
   "source": [
    "print(encuesta)"
   ]
  },
  {
   "cell_type": "markdown",
   "metadata": {},
   "source": [
    "#### Función len()\n",
    "\n",
    "Puedes encontrar el tamaño de una lista con esta función: "
   ]
  },
  {
   "cell_type": "code",
   "execution_count": 49,
   "metadata": {},
   "outputs": [
    {
     "data": {
      "text/plain": [
       "3"
      ]
     },
     "execution_count": 49,
     "metadata": {},
     "output_type": "execute_result"
    }
   ],
   "source": [
    "len(encuesta)"
   ]
  },
  {
   "cell_type": "markdown",
   "metadata": {},
   "source": [
    "#### Una nota sobre el return\n",
    "\n",
    "Cada método, o función que le aplicamos a un objeto en python, y en los demás lenguajes de programación, regresa \"algo\". por ejemplo, .pop() regresa el elemento borrado. No todos los métodos modifican el objeto. Recordemos str() e int() que después de aplicados a una variable no modifican a la misma. Es muy importante tener en cuenta qué cosa está regresando cada función y si modifica o no los objetos con los que estamos trabajando para saber cómo debemos trabajarlos. Ejemplos."
   ]
  },
  {
   "cell_type": "markdown",
   "metadata": {},
   "source": [
    "### Buscando ayuda\n",
    "\n",
    "\n",
    "Utiliza la función help() para encontrar más información sobre listas y sus métodos y ten a la mano la [documentación de python](https://docs.python.org/3/tutorial/datastructures.html)"
   ]
  },
  {
   "cell_type": "markdown",
   "metadata": {},
   "source": [
    "## Tuples\n",
    "\n",
    "Los tuples, como las listas, son colecciones de objetos. La diferencia es que son inmutables, es decir, no se pueden cambiar.\n",
    "\n",
    "Los tuples se declaran de la siguiente formas:"
   ]
  },
  {
   "cell_type": "code",
   "execution_count": 50,
   "metadata": {},
   "outputs": [
    {
     "name": "stdout",
     "output_type": "stream",
     "text": [
      "<class 'tuple'>\n",
      "<class 'tuple'>\n",
      "<class 'tuple'>\n"
     ]
    }
   ],
   "source": [
    "LISTA = [1, 2, 3]\n",
    "n = 1, 2, 3, \"hola\", \"adios\"\n",
    "\n",
    "t = 1, 2, 3\n",
    "print(type(t))\n",
    "\n",
    "r = [1, 2], [3, 4]\n",
    "print(type(r))\n",
    "\n",
    "s = (1,2)\n",
    "print(type(s))\n"
   ]
  },
  {
   "cell_type": "markdown",
   "metadata": {},
   "source": [
    "Los tuples se accesan igual que las listas:"
   ]
  },
  {
   "cell_type": "code",
   "execution_count": 51,
   "metadata": {},
   "outputs": [
    {
     "name": "stdout",
     "output_type": "stream",
     "text": [
      "1\n"
     ]
    }
   ],
   "source": [
    "print(s[0])"
   ]
  },
  {
   "cell_type": "markdown",
   "metadata": {},
   "source": [
    "Los tuples son inmutables:"
   ]
  },
  {
   "cell_type": "code",
   "execution_count": 52,
   "metadata": {},
   "outputs": [
    {
     "ename": "TypeError",
     "evalue": "'tuple' object does not support item assignment",
     "output_type": "error",
     "traceback": [
      "\u001b[0;31m---------------------------------------------------------------------------\u001b[0m",
      "\u001b[0;31mTypeError\u001b[0m                                 Traceback (most recent call last)",
      "\u001b[0;32m<ipython-input-52-bb4debae7390>\u001b[0m in \u001b[0;36m<module>\u001b[0;34m()\u001b[0m\n\u001b[0;32m----> 1\u001b[0;31m \u001b[0ms\u001b[0m\u001b[0;34m[\u001b[0m\u001b[0;36m0\u001b[0m\u001b[0;34m]\u001b[0m \u001b[0;34m=\u001b[0m \u001b[0;36m20\u001b[0m\u001b[0;34m\u001b[0m\u001b[0m\n\u001b[0m",
      "\u001b[0;31mTypeError\u001b[0m: 'tuple' object does not support item assignment"
     ]
    }
   ],
   "source": [
    "s[0] = 20"
   ]
  },
  {
   "cell_type": "markdown",
   "metadata": {},
   "source": [
    "Cuando un tuple contiene un tipo de objeto mutable, este sí puede cambiarse:"
   ]
  },
  {
   "cell_type": "code",
   "execution_count": 63,
   "metadata": {},
   "outputs": [
    {
     "name": "stdout",
     "output_type": "stream",
     "text": [
      "1\n",
      "([450, 2], [3, 4])\n"
     ]
    }
   ],
   "source": [
    "un_tuple = ([1, 2], [3, 4])\n",
    "print(un_tuple[0][0])\n",
    "\n",
    "un_tuple[0][0] = 450\n",
    "print(un_tuple)\n"
   ]
  },
  {
   "cell_type": "markdown",
   "metadata": {},
   "source": [
    "Lo que no puede cambiarse es el objeto en sí:"
   ]
  },
  {
   "cell_type": "code",
   "execution_count": 64,
   "metadata": {},
   "outputs": [
    {
     "name": "stdout",
     "output_type": "stream",
     "text": [
      "[450, 2]\n"
     ]
    },
    {
     "ename": "TypeError",
     "evalue": "'tuple' object does not support item assignment",
     "output_type": "error",
     "traceback": [
      "\u001b[0;31m---------------------------------------------------------------------------\u001b[0m",
      "\u001b[0;31mTypeError\u001b[0m                                 Traceback (most recent call last)",
      "\u001b[0;32m<ipython-input-64-d42f02fadf3a>\u001b[0m in \u001b[0;36m<module>\u001b[0;34m()\u001b[0m\n\u001b[1;32m      1\u001b[0m \u001b[0mprint\u001b[0m\u001b[0;34m(\u001b[0m\u001b[0mun_tuple\u001b[0m\u001b[0;34m[\u001b[0m\u001b[0;36m0\u001b[0m\u001b[0;34m]\u001b[0m\u001b[0;34m)\u001b[0m\u001b[0;34m\u001b[0m\u001b[0m\n\u001b[0;32m----> 2\u001b[0;31m \u001b[0mun_tuple\u001b[0m\u001b[0;34m[\u001b[0m\u001b[0;36m0\u001b[0m\u001b[0;34m]\u001b[0m \u001b[0;34m=\u001b[0m \u001b[0;36m120\u001b[0m\u001b[0;34m\u001b[0m\u001b[0m\n\u001b[0m",
      "\u001b[0;31mTypeError\u001b[0m: 'tuple' object does not support item assignment"
     ]
    }
   ],
   "source": [
    "print(un_tuple[0])\n",
    "un_tuple[0] = 120\n"
   ]
  },
  {
   "cell_type": "code",
   "execution_count": 65,
   "metadata": {},
   "outputs": [
    {
     "name": "stdout",
     "output_type": "stream",
     "text": [
      "([450, 2], [3, 4])\n"
     ]
    }
   ],
   "source": [
    "print(un_tuple)"
   ]
  },
  {
   "cell_type": "markdown",
   "metadata": {},
   "source": [
    "__¿Para qué utilizarías los tuples?__"
   ]
  },
  {
   "cell_type": "markdown",
   "metadata": {},
   "source": [
    "## Diccionarios\n",
    "\n",
    "Hasta ahora hemos visto colecciones Los diccionarios son colecciones de datos que, en lugar de estar indexada con números como las listas y tuples, están indexadas por llaves. Los diccionarios, así, son colecciones de llaves y valores (keys and values):"
   ]
  },
  {
   "cell_type": "code",
   "execution_count": 67,
   "metadata": {},
   "outputs": [
    {
     "name": "stdout",
     "output_type": "stream",
     "text": [
      "romina@gmail.com\n"
     ]
    }
   ],
   "source": [
    "usuarios = {\n",
    "                \"Romina\": \"romina@gmail.com\", \n",
    "                \"Martha\": \"martha@gmail.com\"\n",
    "            }\n",
    "\n",
    "print(usuarios[\"Romina\"])"
   ]
  },
  {
   "cell_type": "markdown",
   "metadata": {},
   "source": [
    "Los diccionarios son más útiles cuando tiene más de un nivel:"
   ]
  },
  {
   "cell_type": "code",
   "execution_count": 74,
   "metadata": {},
   "outputs": [
    {
     "name": "stdout",
     "output_type": "stream",
     "text": [
      "{'Romina': {'email': 'romina@gmail.com', 'teléfono': 81123456, 'sexo': 'femenino'}, 'Martha': {'email': 'martha@gmail.com', 'teléfono': 81123456, 'sexo': 'femenino'}}\n"
     ]
    }
   ],
   "source": [
    "usuarios_dic = {\n",
    "                \"Romina\": {\n",
    "                    \"email\": \"romina@gmail.com\",\n",
    "                    \"teléfono\": 81123456,\n",
    "                    \"sexo\": \"femenino\"\n",
    "                }, \n",
    "                \"Martha\": {\n",
    "                    \"email\": \"martha@gmail.com\",\n",
    "                    \"teléfono\": 81123456,\n",
    "                    \"sexo\": \"femenino\"\n",
    "                }\n",
    "            }\n",
    "\n",
    "#print(usuarios_dic[\"Romina\"])\n",
    "print(usuarios_dic)"
   ]
  },
  {
   "cell_type": "markdown",
   "metadata": {},
   "source": [
    "Ahora agreguemos otro registro al diccionario:"
   ]
  },
  {
   "cell_type": "code",
   "execution_count": 75,
   "metadata": {},
   "outputs": [
    {
     "name": "stdout",
     "output_type": "stream",
     "text": [
      "{'Romina': {'email': 'romina@gmail.com', 'teléfono': 81123456, 'sexo': 'femenino'}, 'Martha': {'email': 'martha@gmail.com', 'teléfono': 81123456, 'sexo': 'femenino'}, 'Juliana': {'email': 'juliana@gmail.com', 'teléfono': 811239976, 'sexo': 'femenino'}}\n"
     ]
    }
   ],
   "source": [
    "usuarios_dic[\"Juliana\"] = {\n",
    "    \"email\": \"juliana@gmail.com\",\n",
    "    \"teléfono\": 811239976,\n",
    "    \"sexo\": \"femenino\"\n",
    "}\n",
    "\n",
    "print(usuarios_dic)"
   ]
  },
  {
   "cell_type": "markdown",
   "metadata": {},
   "source": [
    "Uso de help()\n",
    "1. ¿cómo obtengo una lista de todas las llaves?\n",
    "    - return?\n",
    "2. ¿cómo actualizo un valor de una llave existente?\n",
    "    - return?\n",
    "3. ¿cómo quito una llave/valor específico?\n",
    "    - return?\n"
   ]
  },
  {
   "cell_type": "markdown",
   "metadata": {},
   "source": [
    "Los diccionarios en otros lenguajes de programación suelen llamarse `hashes`.\n",
    "\n",
    "Puedes encontrar otras estructuras de datos de python [aquí](https://docs.python.org/3/tutorial/datastructures.html). Recomendamos ampliamente leer la documentación."
   ]
  },
  {
   "cell_type": "markdown",
   "metadata": {},
   "source": [
    "## Iterando la magia\n",
    "\n",
    "Todas estas estructuras de datos son enumerables, es decir, son colecciones que pueden enumerarse, y por lo tanto, recorrerse con código para transformarse. Por ejemplo, nuestra lista de la encuesta de fans de Luis Miguel, supongamos que de ella queremos saber solamente las edades, esto lo haremos con un bucle, o un loop: \n"
   ]
  },
  {
   "cell_type": "code",
   "execution_count": 87,
   "metadata": {},
   "outputs": [
    {
     "name": "stdout",
     "output_type": "stream",
     "text": [
      "29\n",
      "21\n",
      "59\n",
      "39\n",
      "[['Margarita Pérez', 29, 'margarita@gmail.com', 'Mujer', True], ['Milton Pérez', 21, 'milton@gmail.com', 'Hombre', True], ['Andrés García', 59, 'Andres@gmail.com', 'Hombre', False], ['Gloria Trevi', 39, 'gloria@gmail.com', 'Mujer', True]]\n"
     ]
    }
   ],
   "source": [
    "encuestas = [['Margarita Pérez', 28, 'margarita@gmail.com', 'Mujer', True], \n",
    "            ['Milton Pérez', 20, 'milton@gmail.com', 'Hombre', True],\n",
    "            ['Andrés García', 58, 'Andres@gmail.com', 'Hombre', False],\n",
    "            ['Gloria Trevi', 38, 'gloria@gmail.com', 'Mujer', True]]\n",
    "\n",
    "\n",
    "# ¿cómo accesamos un registro en particular?\n",
    "#encuestas[1]\n",
    "\n",
    "# ¿cómo accesamos la edad en el registro?\n",
    "# encuestas[0]\n",
    "# encuestas[1]\n",
    "# encuestas[2]\n",
    "# encuestas[3]\n",
    "\n",
    "# len(encuestas)\n",
    "\n"
   ]
  },
  {
   "cell_type": "code",
   "execution_count": 101,
   "metadata": {},
   "outputs": [
    {
     "name": "stdout",
     "output_type": "stream",
     "text": [
      "procesando edad de persona Margarita Pérez\n",
      "41\n",
      "procesando edad de persona Milton Pérez\n",
      "33\n",
      "procesando edad de persona Andrés García\n",
      "71\n",
      "procesando edad de persona Gloria Trevi\n",
      "51\n",
      "hola ya termina mi iteración\n"
     ]
    }
   ],
   "source": [
    "for encuesta in encuestas:\n",
    "    print(\"procesando edad de persona \" + encuesta[0])\n",
    "    encuesta[1] = encuesta[1] + 1\n",
    "    print(encuesta[1])\n",
    "    True\n",
    "    \n",
    "    \n",
    "\n",
    "print(\"hola ya termina mi iteración\")"
   ]
  },
  {
   "cell_type": "markdown",
   "metadata": {},
   "source": [
    "### Una nota sobre la sintaxis de python. Palabras reservadas e indentación.\n",
    "\n",
    "\n",
    "##### Palabras reservadas\n",
    "\n",
    "Python, como casi todos los lenguajes de programación tiene una lista de palabras reservadas. Las palabras reservadas son palabras que tienen un significado especial para el intérprete, y que por ende no podemos utilizar como variables. La lista de palabras reservadas puedes encontrarla [aquí](https://docs.python.org/3/reference/lexical_analysis.html?highlight=reserved#keywords).\n",
    "\n",
    "Como notarás, python en este editor marca esas palabras con un verde en negritas (checa la diferencia entre for, y print). __for__ e __in__ son palabras reservadas porque el intérprete las usa para ejecutar los loops. Así otras palabras reservadas tienen otras funciones especiales.\n",
    "\n"
   ]
  },
  {
   "cell_type": "code",
   "execution_count": 91,
   "metadata": {},
   "outputs": [
    {
     "ename": "SyntaxError",
     "evalue": "invalid syntax (<ipython-input-91-eecb54146638>, line 1)",
     "output_type": "error",
     "traceback": [
      "\u001b[0;36m  File \u001b[0;32m\"<ipython-input-91-eecb54146638>\"\u001b[0;36m, line \u001b[0;32m1\u001b[0m\n\u001b[0;31m    in = 9\u001b[0m\n\u001b[0m     ^\u001b[0m\n\u001b[0;31mSyntaxError\u001b[0m\u001b[0;31m:\u001b[0m invalid syntax\n"
     ]
    }
   ],
   "source": [
    "a = \"in\""
   ]
  },
  {
   "cell_type": "markdown",
   "metadata": {},
   "source": [
    "##### Indentación\n",
    "\n",
    "Python tiene como característica para ordenar su código la indentación. El intérprete usa la indentación (el espacio desde el borde izquierdo de la pantalla hasta el caracter que estás digitando) como método para leer el texto. Otros lenguajes usan métodos como el punto y la coma (C, Javascript) o el poner un __end__ a la función (Ruby). Por lo mismo, es muy importante cuidar la indentación apropiada del texto, ya que de tener una indentación incorrecta python nos dara un error de indentación ([TabError](https://docs.python.org/3/library/exceptions.html#TabError)). Veamos algunos ejemplos.\n",
    "\n",
    "\n",
    "Ejemplo de [javascript](https://developer.mozilla.org/en-US/docs/Web/JavaScript/Reference/Global_Objects/Function#Difference_between_Function_constructor_and_function_declaration)\n",
    "\n",
    "Ejemplo de [ruby](https://ruby-doc.org/core-2.3.3/doc/syntax/methods_rdoc.html)\n",
    "\n",
    "Ejemplo de [python](https://github.com/ponentesincausa/connectas-scrapping/blob/master/extract.ipynb)\n",
    "\n",
    "\n",
    "Más información sobre la indentación en python [aquí](https://docs.python.org/3/reference/lexical_analysis.html?highlight=reserved#indentation)"
   ]
  },
  {
   "cell_type": "markdown",
   "metadata": {},
   "source": [
    "### Sigamos con bucles, pero ahora de diccionarios\n",
    "\n",
    "Como recordarás, los diccionarios tienen una llave, y un valor. Usemos un iterador para imprimir información de las participantes:\n"
   ]
  },
  {
   "cell_type": "code",
   "execution_count": null,
   "metadata": {},
   "outputs": [],
   "source": [
    "participantes = {\n",
    "                \"Romina\": \"romina@gmail.com\", \n",
    "                \"Martha\": \"martha@gmail.com\",\n",
    "                \"Valentina\": \"valentina@gmail.com\"\n",
    "            }\n",
    "\n",
    "print(\"imprimiendo el nombre de las participantes\")\n",
    "for participante in participantes:\n",
    "    print(participante)"
   ]
  },
  {
   "cell_type": "markdown",
   "metadata": {},
   "source": [
    "__¿Cómo imprimo el correo de las participantes?__"
   ]
  },
  {
   "cell_type": "markdown",
   "metadata": {},
   "source": [
    "Ahora, trabajemos en un problema clásico de iteradores y returns. Como habrás visto cuando imprimimos las edades de las encuestadas del club de luismi, la función nos regresó en cada línea una de las edades, pero si yo quisiera sacar un promedio de edad necesitaría colocar esa data en una nueva colección, es decir, una nueva lista que contenta sólo las edades de las personas del club de fans para que después podamos analizarlo.\n",
    "\n",
    "__Ejercicio__. Usando el dataset de las edades de las encuestas del club de fans de Luismi, agrega 7 registros más, y después, utilizando los bucles (o sea los loops) y la función .append() imagina una forma de hacer un loop con una lista nueva con sólo las edades de los encuestados.\n",
    "\n",
    "\n",
    "__Input__: Lista de luismi con 7 registros más agregados a mano  \n",
    "__Cómputo__: Haz un loop de ese registro para extraer solamente las edades a una nueva lista  \n",
    "__Output__: Una lista con las nuevas edades\n",
    "\n",
    "tip: apóyate del método `.append()`"
   ]
  }
 ],
 "metadata": {
  "kernelspec": {
   "display_name": "Python 3",
   "language": "python",
   "name": "python3"
  },
  "language_info": {
   "codemirror_mode": {
    "name": "ipython",
    "version": 3
   },
   "file_extension": ".py",
   "mimetype": "text/x-python",
   "name": "python",
   "nbconvert_exporter": "python",
   "pygments_lexer": "ipython3",
   "version": "3.7.0"
  }
 },
 "nbformat": 4,
 "nbformat_minor": 2
}
