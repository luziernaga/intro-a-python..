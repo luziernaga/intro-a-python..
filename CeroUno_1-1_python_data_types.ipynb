{
 "cells": [
  {
   "cell_type": "markdown",
   "metadata": {},
   "source": [
    "# Introducción a python"
   ]
  },
  {
   "cell_type": "markdown",
   "metadata": {},
   "source": [
    "### Comentarios en Python\n",
    "\n",
    "Los comentarios son cosas que escribimos dentro del código que no tienen ningún efecto sobre el programa, pero que sirven para explicar a otros programadores o a nosotros mismos lo que estamos haciendo con el código. Recuerda: si en unas semanas no has tocado tu código, no te vas a acordar de él, por lo que siempre es bueno comentarlo para entender la lógica de lo que estabas haciendo. \n",
    "\n",
    "Los comentarios empiezan con # y se ven así:"
   ]
  },
  {
   "cell_type": "code",
   "execution_count": 39,
   "metadata": {},
   "outputs": [],
   "source": [
    "# hola, soy un comentario"
   ]
  },
  {
   "cell_type": "markdown",
   "metadata": {},
   "source": [
    "### Python Data Types\n",
    "\n",
    "Los lenguajes de programación tienen tipos de datos, y cada tipo de dato tiene su tratamiento y sus métodos de transformación.\n",
    "\n",
    "\n",
    "#### Strings\n",
    "\n",
    "Los **strings** son tipos de datos que representan texto escrito. Estos pueden ser nombres propios, párrafos, o hasta números, siempre y cuando estén rodeados de comillas simples ('') o comillas dobles (\"\").\n",
    "\n",
    "En ciencia de datos aprender a hacer transformaciones de __strings__ es muy importante, ya que es común utilizar conjuntos de datos que no están listos para hacer los análisis de datos que vamos a requerir. Por ejemplo, tener un archivo de nombres completos y separar los nombres de los apellidos."
   ]
  },
  {
   "cell_type": "code",
   "execution_count": 40,
   "metadata": {},
   "outputs": [
    {
     "data": {
      "text/plain": [
       "'Este es un string'"
      ]
     },
     "execution_count": 40,
     "metadata": {},
     "output_type": "execute_result"
    }
   ],
   "source": [
    "\"Este es un string\""
   ]
  },
  {
   "cell_type": "markdown",
   "metadata": {},
   "source": [
    "En realidad cada cosa que requiramos que nos devuelva una respuesta en python debe ser impresa. Imprimir en python 2 funciona así:\n",
    "\n",
    "```\n",
    "print \"soy un string\"\n",
    "```\n",
    "\n",
    "En python 3 funciona así:"
   ]
  },
  {
   "cell_type": "code",
   "execution_count": 41,
   "metadata": {},
   "outputs": [
    {
     "name": "stdout",
     "output_type": "stream",
     "text": [
      "Este es un string\n"
     ]
    }
   ],
   "source": [
    "print(\"Este es un string\")"
   ]
  },
  {
   "cell_type": "code",
   "execution_count": 42,
   "metadata": {},
   "outputs": [
    {
     "name": "stdout",
     "output_type": "stream",
     "text": [
      "Este también es un string\n"
     ]
    }
   ],
   "source": [
    "print('Este también es un string')"
   ]
  },
  {
   "cell_type": "code",
   "execution_count": 43,
   "metadata": {},
   "outputs": [
    {
     "name": "stdout",
     "output_type": "stream",
     "text": [
      "20180920\n"
     ]
    }
   ],
   "source": [
    "# Este de aquí abajo también es un string. ¿se imaginan por qué?\n",
    "print('20180920')"
   ]
  },
  {
   "cell_type": "markdown",
   "metadata": {},
   "source": [
    "##### Variables\n",
    "\n",
    "Uno de los principios de la computación es la capacidad de almacenar y de dinamizar información. Para eso existen las variables. En Python, a diferencia de otros lenguajes de programación, las variables sólo se usan y el intérprete infiere su tipo. Veamos un ejemplo de C++, un lenguaje compilado:\n",
    "\n",
    "```\n",
    "#include <iostream>\n",
    "#include <string>\n",
    "using namespace std;\n",
    "\n",
    "int main ()\n",
    "{\n",
    "  string mystring;\n",
    "  mystring = \"Soy un string\";\n",
    "}\n",
    "```\n",
    "\n",
    "Ahora veamos un ejemplo de python:\n"
   ]
  },
  {
   "cell_type": "code",
   "execution_count": 44,
   "metadata": {},
   "outputs": [],
   "source": [
    "x = \"soy un string\""
   ]
  },
  {
   "cell_type": "markdown",
   "metadata": {},
   "source": [
    "Con esto python ya sabe que la variable es de tipo string, y le asigna todas las propiedades de ese tipo, que vermeos más adelante. \n",
    "\n",
    "Podemos almacenar todo tipo de cosas en una variable, ya sea un string, un número, el nombre de una dirección web, un archivo, hasta incluso una matriz de datos con los resultados de una encuesta como veremos más adelante. Al hacer esto, nos permite hacer transformaciones de datos  sin estar digitando la información cada vez que la utilizamos.\n",
    "\n",
    "\n",
    "Con eso cubrimos la parte de almacenaje. ¿Y la parte del dinamismo? En un programa de computación a una variable podemos asignarle todo tipo de datos dinámicos. Por ejemplo, el nombre del usuario que está actualmente abriendo una sesión, la hora exacta de este momento, los goles que lleva un equipo justo ahora o cualquier dato que requiere cambiar con el tiempo y con la situación. "
   ]
  },
  {
   "cell_type": "markdown",
   "metadata": {},
   "source": [
    "\n",
    "##### Concatenación de Strings\n",
    "\n",
    "Una de las propiedades más importantes de los strings es la de la concatenación. En muchas ocasiones, al escribir un programa tendremos que concatenar strings, por ejemplo para construir números identificadores. El __RFC__ en México se construye concatenando información, por ejemplo, tu fecha de nacimiento. Imaginemos esto en un formulario:\n"
   ]
  },
  {
   "cell_type": "code",
   "execution_count": 63,
   "metadata": {},
   "outputs": [
    {
     "name": "stdout",
     "output_type": "stream",
     "text": [
      "tu RFC empieza con: 73104 siono r a z a\n"
     ]
    }
   ],
   "source": [
    "# escribe tu fecha de nacimiento:\n",
    "\n",
    "year = '73'\n",
    "month = '10'\n",
    "day = '4'\n",
    "\n",
    "# tu RFC empieza con:\n",
    "\n",
    "print(\"tu RFC empieza con: \" + year + month + day + \" siono r a z a\")"
   ]
  },
  {
   "cell_type": "markdown",
   "metadata": {},
   "source": [
    "##### Interpolación de Strings\n",
    "\n",
    "En lugar de utilizar tantos símbolos de + y espacios para llegar al resultado adecuado, podemos interpolar las variables en un texto. En python se puede hacer de dos formas. Antes de python 3.6 con el operador %:\n"
   ]
  },
  {
   "cell_type": "code",
   "execution_count": 65,
   "metadata": {},
   "outputs": [
    {
     "name": "stdout",
     "output_type": "stream",
     "text": [
      "In the basket are apples and apples\n",
      "In the basket are 1 and 3\n"
     ]
    }
   ],
   "source": [
    "# con strings\n",
    "\n",
    "x = 'apples'\n",
    "y = 'lemons'\n",
    "\n",
    "z = \"In the basket are %s and %s\" % (x,x)\n",
    "print(z)\n",
    "\n",
    "# con integers\n",
    "x = 1\n",
    "y = 3\n",
    "\n",
    "z = \"In the basket are %i and %i\" % (x,y)\n",
    "print(z)"
   ]
  },
  {
   "cell_type": "markdown",
   "metadata": {},
   "source": [
    "A partir de python 3.6 tenemos una forma más amigable de hacer esta interpolación:"
   ]
  },
  {
   "cell_type": "code",
   "execution_count": 67,
   "metadata": {},
   "outputs": [
    {
     "name": "stdout",
     "output_type": "stream",
     "text": [
      "Gosling Ryan tiene 37 años de edad y está muy guapo.\n"
     ]
    }
   ],
   "source": [
    "nombre = \"Ryan\"\n",
    "apellido = \"Gosling\"\n",
    "edad = 37\n",
    "\n",
    "\n",
    "print(\"{} {} tiene {} años de edad y está muy guapo.\".format(apellido, nombre, edad)) "
   ]
  },
  {
   "cell_type": "markdown",
   "metadata": {},
   "source": [
    "__¿Qué tiene qué ver el dinamismo con la string interpolation?__"
   ]
  },
  {
   "cell_type": "markdown",
   "metadata": {},
   "source": [
    "#### Saltos de línea\n",
    "\n",
    "A veces necesitamos \"saltar un renglón\" en la pantalla, aunque esto se usa muy rara vez en la capa de programación. A esto se le llama _salto de línea_ o __line break__ y se hace con los caracteres `\\n` así:"
   ]
  },
  {
   "cell_type": "code",
   "execution_count": 49,
   "metadata": {},
   "outputs": [
    {
     "name": "stdout",
     "output_type": "stream",
     "text": [
      "aquí hay una línea \n",
      "y esta es una línea nueva\n"
     ]
    }
   ],
   "source": [
    "print(\"aquí hay una línea \\ny esta es una línea nueva\")"
   ]
  },
  {
   "cell_type": "markdown",
   "metadata": {},
   "source": [
    "#### Escapeo de caracteres\n",
    "\n",
    "A veces, por razones varias necesitamos imprimir caracteres que interfieren con el intérprete de python, como las comillas simples `'` o los backslashes `\\`, y para ello debemos saber hacer _escapeo de caracteres_ o __caracter escaping__ para que puedan imprimirse normalmente. Veamos algunos ejemplos:\n"
   ]
  },
  {
   "cell_type": "code",
   "execution_count": 69,
   "metadata": {},
   "outputs": [
    {
     "name": "stdout",
     "output_type": "stream",
     "text": [
      "Dolores O'Riordan\n",
      "Dolores O'Riordan\n",
      "ahora quiero imprimir un backslash \\\n",
      "Dolores O'Riordan\n"
     ]
    }
   ],
   "source": [
    "# Con comillas compuestas\n",
    "print(\"Dolores O'Riordan\")\n",
    "\n",
    "# Escapando con backslash\n",
    "print('Dolores O\\'Riordan')\n",
    "\n",
    "# Escapando backslashes\n",
    "print(\"ahora quiero imprimir un backslash \\\\\")\n",
    "\n",
    "# h4ck34nd0 pyth0n\n",
    "print('Dolores O' + \"'\" + 'Riordan')"
   ]
  },
  {
   "cell_type": "markdown",
   "metadata": {},
   "source": [
    "### Integers y Floats\n",
    "\n",
    "##### Integers \n",
    "\n",
    "Los integers son números enteros y a diferencia de los strings son sujetos de realizar funciones matemáticas. Un integer a diferencia de un string no lleva comillas.\n"
   ]
  },
  {
   "cell_type": "code",
   "execution_count": 58,
   "metadata": {},
   "outputs": [
    {
     "name": "stdout",
     "output_type": "stream",
     "text": [
      "3\n"
     ]
    }
   ],
   "source": [
    "a = 1\n",
    "b = 2\n",
    "print(a + b)"
   ]
  },
  {
   "cell_type": "markdown",
   "metadata": {},
   "source": [
    "A diferencia de otros lenguajes de programación, el tipado débil de python permite cambiar un tipo de variable de string a integer o a cualquier otro tipo simplemente cambiándolo. Sin embargo esto no se recomienda hacerse de forma arbitraria ya que puede llegar a romper tu programa ¿Te puedes imaginar por qué?\n"
   ]
  },
  {
   "cell_type": "code",
   "execution_count": 59,
   "metadata": {},
   "outputs": [
    {
     "name": "stdout",
     "output_type": "stream",
     "text": [
      "1\n",
      "diez\n"
     ]
    }
   ],
   "source": [
    "a = 1\n",
    "print(a)\n",
    "\n",
    "a = \"diez\"\n",
    "print(a)"
   ]
  },
  {
   "cell_type": "markdown",
   "metadata": {},
   "source": [
    "Operadores matemáticos en python"
   ]
  },
  {
   "cell_type": "markdown",
   "metadata": {},
   "source": [
    "##### Floats\n",
    "\n",
    "Los floats en python representan los números reales. Pueden representarse así `2.5` o incluso representarse en notación científica, por ejemplo, `2.5e2` donde `2.5e2 = 2.5 x 102 = 250`\n",
    "\n"
   ]
  },
  {
   "cell_type": "markdown",
   "metadata": {},
   "source": [
    "### Booleanos\n",
    "\n",
    "Un booleano es un typo de dato que es una aserción de que algo es ya sea verdadero o falso. En python simplemente se declaran así:\n",
    "\n",
    "`True`\n",
    "\n",
    "`False`\n",
    "\n",
    "Cuida que estén escritos de este modo (case-sensitive)"
   ]
  }
 ],
 "metadata": {
  "kernelspec": {
   "display_name": "Python 3",
   "language": "python",
   "name": "python3"
  },
  "language_info": {
   "codemirror_mode": {
    "name": "ipython",
    "version": 3
   },
   "file_extension": ".py",
   "mimetype": "text/x-python",
   "name": "python",
   "nbconvert_exporter": "python",
   "pygments_lexer": "ipython3",
   "version": "3.7.0"
  }
 },
 "nbformat": 4,
 "nbformat_minor": 2
}
